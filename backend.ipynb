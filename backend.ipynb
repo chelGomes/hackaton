{
 "cells": [
  {
   "cell_type": "markdown",
   "metadata": {},
   "source": [
    "# Pre-processamento dos dados do arquivo daily-minimum-temperatures.csv"
   ]
  },
  {
   "cell_type": "code",
   "execution_count": null,
   "metadata": {},
   "outputs": [],
   "source": [
    "import pandas as pd\n",
    "import matplotlib.pyplot as plt\n",
    "import numpy as np\n",
    "import random"
   ]
  },
  {
   "cell_type": "markdown",
   "metadata": {},
   "source": [
    "### Conhecendo os dados"
   ]
  },
  {
   "cell_type": "markdown",
   "metadata": {},
   "source": [
    "Primeiro conheçemos os dados originais, 10 anos completos 1981 até 1990 "
   ]
  },
  {
   "cell_type": "code",
   "execution_count": null,
   "metadata": {},
   "outputs": [],
   "source": [
    "dados = pd.read_csv('daily-minimum-temperatures.csv')\n",
    "print(dados.describe())\n",
    "T = dados['Daily minimum temperatures'].values\n",
    "plt.plot(T)\n",
    "plt.title(\"Plot geral dos dados de 10 anos\")\n",
    "plt.show()\n",
    "dados['Date'] = pd.to_datetime(dados['Date'], format='%m/%d/%Y')\n",
    "dados['Year'] = dados['Date'].dt.year.astype(int)\n"
   ]
  },
  {
   "cell_type": "markdown",
   "metadata": {},
   "source": [
    "Depois conheçemos os dados (plots) ano a ano\n",
    "\n",
    "Adequação de tipo, criação de novas colunas \\\n",
    "Criação de novas colunas 1981, 1982... 1990"
   ]
  },
  {
   "cell_type": "code",
   "execution_count": null,
   "metadata": {},
   "outputs": [],
   "source": [
    "for i in range(1981, 1991):\n",
    "    new_column = str(i)\n",
    "    dados[new_column] = dados.apply(lambda row: row['Date'].strftime('%m-%d') if row['Year'] == i else None, axis=1)\n",
    "for i in range(1981,1991):\n",
    "    j = str(i)\n",
    "    dados[j] = dados[j].replace({None: np.nan})\n",
    "    dados[j] = dados[j].replace({np.nan: '0'})\n",
    "    y = dados['1981']\n",
    "    '''Uncomment for plot'''\n",
    "    # print(y)\n",
    "    # plt.plot(y,T)\n",
    "    # plt.show()"
   ]
  },
  {
   "cell_type": "markdown",
   "metadata": {},
   "source": [
    "### Edição do dataset, distorcendo alguns dados\n",
    "\n",
    "Adicionando ruido gaussiano"
   ]
  },
  {
   "cell_type": "code",
   "execution_count": null,
   "metadata": {},
   "outputs": [],
   "source": [
    "\n",
    "probabilidade_ruido = 0.1\n",
    "probabilidade_delete = 0.01\n",
    "dados_temp = dados['Daily minimum temperatures'].copy()\n",
    "\n",
    "# Adicione valores nulos e ruido aleatoriamente\n",
    "for i in range(1981,1991):\n",
    "    j = str(i)\n",
    "    for index in range(len(dados_temp)):\n",
    "        if random.random() < probabilidade_ruido:\n",
    "            dados_temp[index] += np.random.normal(scale= 1)\n",
    "        if random.random() < probabilidade_delete:\n",
    "            dados_temp[index] = np.nan \n",
    "        # if random.random() < probabilidade_ruido:\n",
    "        #     dados.at[index, j] += np.random.normal(scale= 30)\n",
    "# dados_Campo.to_csv('dados.csv',index= False)\n",
    "dados['Daily minimum temperatures'] = dados_temp\n",
    "T = dados_temp\n",
    "\n",
    "# for i in range(1981,1991):\n",
    "#     j = str(i)\n",
    "#     y = dados[j].values\n",
    "#     # plt.plot(y,T)\n",
    "#     # plt.show()\n",
    "print(dados.describe())\n",
    "dados.to_csv('dados_ruido.csv', index = False)\n"
   ]
  },
  {
   "cell_type": "code",
   "execution_count": null,
   "metadata": {},
   "outputs": [],
   "source": []
  }
 ],
 "metadata": {
  "kernelspec": {
   "display_name": "hackaton",
   "language": "python",
   "name": "python3"
  },
  "language_info": {
   "codemirror_mode": {
    "name": "ipython",
    "version": 3
   },
   "file_extension": ".py",
   "mimetype": "text/x-python",
   "name": "python",
   "nbconvert_exporter": "python",
   "pygments_lexer": "ipython3",
   "version": "3.12.0"
  },
  "orig_nbformat": 4
 },
 "nbformat": 4,
 "nbformat_minor": 2
}
